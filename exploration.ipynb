{
 "cells": [
  {
   "cell_type": "markdown",
   "id": "42f8866e-f885-4fa6-98bb-2c5853bd88bb",
   "metadata": {},
   "source": [
    "# Mean-Variance-Standard Deviation Calculator\n",
    "\n",
    "This notebook demonstrates how the `calculate()` function works by running it with example input and inspecting each of the computed statistics step by step."
   ]
  },
  {
   "cell_type": "code",
   "execution_count": 10,
   "id": "3208439d-d936-4a9d-b4a6-25282478facf",
   "metadata": {},
   "outputs": [],
   "source": [
    "import numpy as np\n",
    "from mean_var_std import calculate"
   ]
  },
  {
   "cell_type": "code",
   "execution_count": 11,
   "id": "5328eb7f-187b-4f2d-9025-ebfa51e3e1cc",
   "metadata": {},
   "outputs": [
    {
     "data": {
      "text/plain": [
       "array([[0, 1, 2],\n",
       "       [3, 4, 5],\n",
       "       [6, 7, 8]])"
      ]
     },
     "execution_count": 11,
     "metadata": {},
     "output_type": "execute_result"
    }
   ],
   "source": [
    "input_data = [0, 1, 2, 3, 4, 5, 6, 7, 8]\n",
    "matrix = np.array(input_data).reshape(3, 3)\n",
    "matrix"
   ]
  },
  {
   "cell_type": "code",
   "execution_count": 12,
   "id": "539c8327-e637-486b-b7c0-772137477b55",
   "metadata": {},
   "outputs": [
    {
     "data": {
      "text/plain": [
       "{'mean': [[3.0, 4.0, 5.0], [1.0, 4.0, 7.0], 4.0],\n",
       " 'variance': [[6.0, 6.0, 6.0],\n",
       "  [0.6666666666666666, 0.6666666666666666, 0.6666666666666666],\n",
       "  6.666666666666667],\n",
       " 'standard deviation': [[2.449489742783178,\n",
       "   2.449489742783178,\n",
       "   2.449489742783178],\n",
       "  [0.816496580927726, 0.816496580927726, 0.816496580927726],\n",
       "  2.581988897471611],\n",
       " 'max': [[6, 7, 8], [2, 5, 8], 8],\n",
       " 'min': [[0, 1, 2], [0, 3, 6], 0],\n",
       " 'sum': [[9, 12, 15], [3, 12, 21], 36]}"
      ]
     },
     "execution_count": 12,
     "metadata": {},
     "output_type": "execute_result"
    }
   ],
   "source": [
    "result = calculate(input_data)\n",
    "result"
   ]
  },
  {
   "cell_type": "markdown",
   "id": "8d8d7cee-eb9e-49e2-a911-81314ec431cd",
   "metadata": {},
   "source": [
    "## Mean\n",
    "Calculate the mean across:\n",
    "- Columns → axis=0\n",
    "- Rows → axis=1\n",
    "- All elements → flattened"
   ]
  },
  {
   "cell_type": "code",
   "execution_count": 13,
   "id": "b71d2e9d-e64a-45e0-968c-2c61681a39f1",
   "metadata": {},
   "outputs": [
    {
     "name": "stdout",
     "output_type": "stream",
     "text": [
      "Column-wise mean (axis=0): [3.0, 4.0, 5.0]\n",
      "Row-wise mean (axis=1): [1.0, 4.0, 7.0]\n",
      "Flattened mean: 4.0\n"
     ]
    }
   ],
   "source": [
    "print(\"Column-wise mean (axis=0):\", matrix.mean(axis=0).tolist())\n",
    "print(\"Row-wise mean (axis=1):\", matrix.mean(axis=1).tolist())\n",
    "print(\"Flattened mean:\", matrix.mean().item())"
   ]
  },
  {
   "cell_type": "markdown",
   "id": "4c57b900-b01b-406f-8842-9b4635c0ad5a",
   "metadata": {},
   "source": [
    "## Variance\n",
    "Spread of values from the mean."
   ]
  },
  {
   "cell_type": "code",
   "execution_count": 14,
   "id": "63d9abd3-d24a-4dba-b9e7-960ab062d98c",
   "metadata": {},
   "outputs": [
    {
     "name": "stdout",
     "output_type": "stream",
     "text": [
      "Column-wise variance: [6.0, 6.0, 6.0]\n",
      "Row-wise variance: [0.6666666666666666, 0.6666666666666666, 0.6666666666666666]\n",
      "Flattened variance: 6.666666666666667\n"
     ]
    }
   ],
   "source": [
    "print(\"Column-wise variance:\", matrix.var(axis=0).tolist())\n",
    "print(\"Row-wise variance:\", matrix.var(axis=1).tolist())\n",
    "print(\"Flattened variance:\", matrix.var().item())"
   ]
  },
  {
   "cell_type": "code",
   "execution_count": 15,
   "id": "a0a3e7eb-4003-4a93-8de9-8b923c652376",
   "metadata": {},
   "outputs": [
    {
     "name": "stdout",
     "output_type": "stream",
     "text": [
      "Standard deviation (axis=0): [2.449489742783178, 2.449489742783178, 2.449489742783178]\n",
      "Standard deviation (axis=1): [0.816496580927726, 0.816496580927726, 0.816496580927726]\n",
      "Flattened std: 2.581988897471611\n"
     ]
    }
   ],
   "source": [
    "print(\"Standard deviation (axis=0):\", matrix.std(axis=0).tolist())\n",
    "print(\"Standard deviation (axis=1):\", matrix.std(axis=1).tolist())\n",
    "print(\"Flattened std:\", matrix.std().item())"
   ]
  },
  {
   "cell_type": "code",
   "execution_count": 16,
   "id": "c429dc79-9a14-4575-b000-3707b093970e",
   "metadata": {},
   "outputs": [
    {
     "name": "stdout",
     "output_type": "stream",
     "text": [
      "Max (axis=0): [6, 7, 8]\n",
      "Max (axis=1): [2, 5, 8]\n",
      "Flattened max: 8\n",
      "Min (axis=0): [0, 1, 2]\n",
      "Min (axis=1): [0, 3, 6]\n",
      "Flattened min: 0\n",
      "Sum (axis=0): [9, 12, 15]\n",
      "Sum (axis=1): [3, 12, 21]\n",
      "Flattened sum: 36\n"
     ]
    }
   ],
   "source": [
    "print(\"Max (axis=0):\", matrix.max(axis=0).tolist())\n",
    "print(\"Max (axis=1):\", matrix.max(axis=1).tolist())\n",
    "print(\"Flattened max:\", matrix.max())\n",
    "\n",
    "print(\"Min (axis=0):\", matrix.min(axis=0).tolist())\n",
    "print(\"Min (axis=1):\", matrix.min(axis=1).tolist())\n",
    "print(\"Flattened min:\", matrix.min())\n",
    "\n",
    "print(\"Sum (axis=0):\", matrix.sum(axis=0).tolist())\n",
    "print(\"Sum (axis=1):\", matrix.sum(axis=1).tolist())\n",
    "print(\"Flattened sum:\", matrix.sum())"
   ]
  },
  {
   "cell_type": "markdown",
   "id": "730a8740-8844-4209-bdd8-e3f5186745ef",
   "metadata": {},
   "source": [
    "## Summary\n",
    "This notebook confirms that `calculate()` matches the output of built-in NumPy functions across axis 0, 1, and flattened arrays."
   ]
  }
 ],
 "metadata": {
  "kernelspec": {
   "display_name": "Python 3 (ipykernel)",
   "language": "python",
   "name": "python3"
  },
  "language_info": {
   "codemirror_mode": {
    "name": "ipython",
    "version": 3
   },
   "file_extension": ".py",
   "mimetype": "text/x-python",
   "name": "python",
   "nbconvert_exporter": "python",
   "pygments_lexer": "ipython3",
   "version": "3.11.0"
  }
 },
 "nbformat": 4,
 "nbformat_minor": 5
}
